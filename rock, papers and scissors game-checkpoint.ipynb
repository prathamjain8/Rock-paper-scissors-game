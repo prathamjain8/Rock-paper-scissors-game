{
 "cells": [
  {
   "cell_type": "code",
   "execution_count": 1,
   "id": "7f7da987",
   "metadata": {},
   "outputs": [],
   "source": [
    "import random"
   ]
  },
  {
   "cell_type": "code",
   "execution_count": 2,
   "id": "c7c789ae",
   "metadata": {},
   "outputs": [
    {
     "name": "stdout",
     "output_type": "stream",
     "text": [
      "\n",
      "    Rock-Paper-Scissors Game\n",
      "    Please choose one of them\n",
      "    Rock\n",
      "    Paper\n",
      "    Scissor\n",
      "    \n",
      "    Have fun!!\n",
      "    \n"
     ]
    }
   ],
   "source": [
    "print(\"\"\"\n",
    "    Rock-Paper-Scissors Game\n",
    "    Please choose one of them\n",
    "    Rock\n",
    "    Paper\n",
    "    Scissor\n",
    "    \n",
    "    Have fun!!\n",
    "    \"\"\")"
   ]
  },
  {
   "cell_type": "code",
   "execution_count": 4,
   "id": "bcf371df",
   "metadata": {},
   "outputs": [
    {
     "name": "stdout",
     "output_type": "stream",
     "text": [
      "Choose what you want (rock, paper, scissor): rock\n",
      "You choose: rock and computer choose: paper\n",
      "Computer wins!!\n",
      "Play again? (y/n): y\n",
      "Choose what you want (rock, paper, scissor): rock\n",
      "You choose: rock and computer choose: scissors\n",
      "You win!!\n",
      "Play again? (y/n): n\n"
     ]
    }
   ],
   "source": [
    "option_list = [\"rock\", \"paper\", \"scissors\"]\n",
    "game_on = True\n",
    "\n",
    "while game_on:\n",
    "    \n",
    "    player_input = None\n",
    "    computer_choice = random.choice(option_list)\n",
    "    \n",
    "    while player_input not in option_list:\n",
    "        player_input = input(\"Choose what you want (rock, paper, scissor): \")\n",
    "        \n",
    "    print(\"You choose: \" + player_input + \" and computer chose: \" + computer_choice)\n",
    "\n",
    "    if player_input == computer_choice:\n",
    "        print(\"It's a tie\")\n",
    "    elif player_input == \"rock\" and computer_choice == \"scissors\":\n",
    "        print(\"You win!!\")\n",
    "    elif player_input == \"paper\" and computer_choice == \"rock\":\n",
    "        print(\"You win!!\")\n",
    "    elif player_input == \"scissors\" and computer_choice == \"paper\":\n",
    "        print(\"You win!!\")\n",
    "    else:\n",
    "        print(\"Computer wins!!\")\n",
    "    \n",
    "    if not input(\"Play again? (y/n): \").lower() == \"y\":\n",
    "        game_on = False\n",
    "print(\"Thanks For playing!!\")"
   ]
  },
  {
   "cell_type": "code",
   "execution_count": null,
   "id": "84c2169b",
   "metadata": {},
   "outputs": [],
   "source": []
  }
 ],
 "metadata": {
  "kernelspec": {
   "display_name": "Python 3 (ipykernel)",
   "language": "python",
   "name": "python3"
  },
  "language_info": {
   "codemirror_mode": {
    "name": "ipython",
    "version": 3
   },
   "file_extension": ".py",
   "mimetype": "text/x-python",
   "name": "python",
   "nbconvert_exporter": "python",
   "pygments_lexer": "ipython3",
   "version": "3.11.5"
  }
 },
 "nbformat": 4,
 "nbformat_minor": 5
}
